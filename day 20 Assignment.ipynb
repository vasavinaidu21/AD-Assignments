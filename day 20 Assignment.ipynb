{
 "cells": [
  {
   "cell_type": "code",
   "execution_count": 5,
   "id": "c1dcdfbe-ffbe-42c5-af14-abea761741d2",
   "metadata": {},
   "outputs": [
    {
     "name": "stdout",
     "output_type": "stream",
     "text": [
      "Missing Data:\n",
      " Order_ID             0\n",
      "Product_Category    24\n",
      "Product_Price       20\n",
      "Customer_Age        15\n",
      "Rating              25\n",
      "Review_Text         21\n",
      "Order_Date          10\n",
      "dtype: int64\n",
      "Duplicate Rows:\n",
      "      Order_ID Product_Category  Product_Price  Customer_Age  Rating  \\\n",
      "3           4            Books         4568.0          35.0     3.0   \n",
      "6           7       Home Decor          130.0          67.0     3.0   \n",
      "7           8         Clothing         1905.0          41.0     1.0   \n",
      "8           9            Books         3669.0          32.0     4.0   \n",
      "9          10      Electronics         1536.0          47.0     4.0   \n",
      "..        ...              ...            ...           ...     ...   \n",
      "500        46       Home Decor         2965.0          41.0     4.0   \n",
      "501       109       Home Decor          384.0          56.0     1.0   \n",
      "502        52      Electronics         2434.0          26.0     3.0   \n",
      "503       281       Home Decor         3093.0          24.0     3.0   \n",
      "504       461      Electronics         1970.0          55.0     1.0   \n",
      "\n",
      "             Review_Text  Order_Date  \n",
      "3        Value for money  2023-01-04  \n",
      "6     Excellent product!  2023-01-07  \n",
      "7        Value for money  2023-01-08  \n",
      "8     Excellent product!  2023-01-09  \n",
      "9    Would not recommend  2023-01-10  \n",
      "..                   ...         ...  \n",
      "500      Not as expected  2023-02-15  \n",
      "501   Excellent product!  2023-04-19  \n",
      "502      Value for money  2023-02-21  \n",
      "503            No Review  2023-10-08  \n",
      "504        Fast delivery  2024-04-05  \n",
      "\n",
      "[499 rows x 7 columns]\n"
     ]
    },
    {
     "data": {
      "image/png": "[encoded data removed]",
      "text/plain": [
       "<Figure size 1000x600 with 2 Axes>"
      ]
     },
     "metadata": {},
     "output_type": "display_data"
    },
    {
     "name": "stdout",
     "output_type": "stream",
     "text": [
      "Data Cleaning Complete. Cleaned dataset saved as 'cleaned_E_Commerce_Data.csv'.\n"
     ]
    }
   ],
   "source": [
    "import pandas as pd\n",
    "import numpy as np\n",
    "import matplotlib.pyplot as plt\n",
    "import seaborn as sns\n",
    "\n",
    "# Step 1: Load the dataset\n",
    "df = pd.read_csv('Day 20_E-Commerce_Data.csv')\n",
    "\n",
    "# Step 2: Handle Missing Values\n",
    "\n",
    "# 2a. Identify missing values\n",
    "missing_data = df.isnull().sum()\n",
    "print(\"Missing Data:\\n\", missing_data)\n",
    "\n",
    "# 2b. Impute missing numerical values\n",
    "df['Rating'] = df['Rating'].fillna(df['Rating'].mean())  # Impute missing Rating with the mean\n",
    "df['Customer_Age'] = df['Customer_Age'].fillna(df['Customer_Age'].median())  # Impute missing Customer_Age with the median\n",
    "\n",
    "# 2c. Impute missing textual data (Review_Text) with 'No Review'\n",
    "df['Review_Text'] = df['Review_Text'].fillna('No Review')\n",
    "\n",
    "# Step 3: Detect and Remove Duplicates\n",
    "duplicates = df[df.duplicated(subset=['Review_Text'])]\n",
    "print(\"Duplicate Rows:\\n\", duplicates)\n",
    "\n",
    "# Remove duplicates based on Review_Text\n",
    "df = df.drop_duplicates(subset=['Review_Text'])\n",
    "\n",
    "# Step 4: Handle Inconsistent Data\n",
    "\n",
    "# 4a. Standardize Rating values (ensure they are between 1 and 5)\n",
    "df['Rating'] = df['Rating'].apply(lambda x: max(1, min(x, 5)))  # Cap Rating between 1 and 5\n",
    "\n",
    "# 4b. Correct spelling inconsistencies in Product_Category (example standardization)\n",
    "df['Product_Category'] = df['Product_Category'].str.lower()  # Convert to lowercase to standardize\n",
    "df['Product_Category'] = df['Product_Category'].str.strip()  # Remove leading/trailing spaces\n",
    "\n",
    "# Step 5: Identify and Handle Outliers\n",
    "\n",
    "# 5a. Visualize outliers using boxplots\n",
    "plt.figure(figsize=(10, 6))\n",
    "\n",
    "# Boxplot for Product_Price\n",
    "plt.subplot(1, 2, 1)\n",
    "sns.boxplot(x=df['Product_Price'])\n",
    "plt.title('Product Price Boxplot')\n",
    "\n",
    "# Boxplot for Rating\n",
    "plt.subplot(1, 2, 2)\n",
    "sns.boxplot(x=df['Rating'])\n",
    "plt.title('Rating Boxplot')\n",
    "\n",
    "plt.tight_layout()\n",
    "plt.show()\n",
    "\n",
    "# 5b. Handle outliers (for example, removing outliers in Product_Price > 99 and Rating < 1 or > 5)\n",
    "df = df[(df['Product_Price'] <= 99) & (df['Rating'] >= 1) & (df['Rating'] <= 5)]\n",
    "\n",
    "# Step 6: Prepare Data for Analysis\n",
    "\n",
    "# 6a. Convert categorical data into numerical format (e.g., using label encoding or one-hot encoding)\n",
    "df['Product_Category'] = df['Product_Category'].astype('category').cat.codes  # Label encode Product_Category\n",
    "\n",
    "# Step 7: Save the final cleaned dataset\n",
    "df.to_csv('cleaned_E_Commerce_Data.csv', index=False)\n",
    "\n",
    "print(\"Data Cleaning Complete. Cleaned dataset saved as 'cleaned_E_Commerce_Data.csv'.\")"
   ]
  },
  {
   "cell_type": "code",
   "execution_count": null,
   "id": "57c84d22-f165-4d25-8102-3066c5a0430c",
   "metadata": {},
   "outputs": [],
   "source": []
  }
 ],
 "metadata": {
  "kernelspec": {
   "display_name": "Python [conda env:base] *",
   "language": "python",
   "name": "conda-base-py"
  },
  "language_info": {
   "codemirror_mode": {
    "name": "ipython",
    "version": 3
   },
   "file_extension": ".py",
   "mimetype": "text/x-python",
   "name": "python",
   "nbconvert_exporter": "python",
   "pygments_lexer": "ipython3",
   "version": "3.12.7"
  }
 },
 "nbformat": 4,
 "nbformat_minor": 5
}
