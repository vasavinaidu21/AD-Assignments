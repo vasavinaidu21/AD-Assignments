{
 "cells": [
  {
   "cell_type": "code",
   "execution_count": 12,
   "id": "b0d6a19e-f375-4e18-9c41-dff90e970c8c",
   "metadata": {},
   "outputs": [
    {
     "name": "stdout",
     "output_type": "stream",
     "text": [
      "Missing values before handling:\n",
      "Booking_ID        0\n",
      "Destination      27\n",
      "Package_Price    20\n",
      "Customer_Age     15\n",
      "Rating           25\n",
      "Review_Text      20\n",
      "Travel_Date      10\n",
      "dtype: int64\n",
      "\n",
      "Number of duplicates before removal: 5\n"
     ]
    },
    {
     "name": "stderr",
     "output_type": "stream",
     "text": [
      "C:\\Users\\likit\\AppData\\Local\\Temp\\ipykernel_20648\\39212697.py:22: FutureWarning: A value is trying to be set on a copy of a DataFrame or Series through chained assignment using an inplace method.\n",
      "The behavior will change in pandas 3.0. This inplace method will never work because the intermediate object on which we are setting values always behaves as a copy.\n",
      "\n",
      "For example, when doing 'df[col].method(value, inplace=True)', try using 'df.method({col: value}, inplace=True)' or df[col] = df[col].method(value) instead, to perform the operation inplace on the original object.\n",
      "\n",
      "\n",
      "  df['Customer_Age'].fillna(df['Customer_Age'].median(), inplace=True)\n",
      "C:\\Users\\likit\\AppData\\Local\\Temp\\ipykernel_20648\\39212697.py:23: FutureWarning: A value is trying to be set on a copy of a DataFrame or Series through chained assignment using an inplace method.\n",
      "The behavior will change in pandas 3.0. This inplace method will never work because the intermediate object on which we are setting values always behaves as a copy.\n",
      "\n",
      "For example, when doing 'df[col].method(value, inplace=True)', try using 'df.method({col: value}, inplace=True)' or df[col] = df[col].method(value) instead, to perform the operation inplace on the original object.\n",
      "\n",
      "\n",
      "  df['Rating'].fillna(df['Rating'].median(), inplace=True)\n",
      "C:\\Users\\likit\\AppData\\Local\\Temp\\ipykernel_20648\\39212697.py:26: FutureWarning: A value is trying to be set on a copy of a DataFrame or Series through chained assignment using an inplace method.\n",
      "The behavior will change in pandas 3.0. This inplace method will never work because the intermediate object on which we are setting values always behaves as a copy.\n",
      "\n",
      "For example, when doing 'df[col].method(value, inplace=True)', try using 'df.method({col: value}, inplace=True)' or df[col] = df[col].method(value) instead, to perform the operation inplace on the original object.\n",
      "\n",
      "\n",
      "  df['Review_Text'].fillna('No Review', inplace=True)\n"
     ]
    },
    {
     "data": {
      "image/png": "[encoded data removed]",
      "text/plain": [
       "<Figure size 1000x500 with 1 Axes>"
      ]
     },
     "metadata": {},
     "output_type": "display_data"
    },
    {
     "data": {
      "image/png": "[encoded data removed]",
      "text/plain": [
       "<Figure size 1000x500 with 1 Axes>"
      ]
     },
     "metadata": {},
     "output_type": "display_data"
    },
    {
     "name": "stdout",
     "output_type": "stream",
     "text": [
      "\n",
      "Dataset cleaned and saved as 'Cleaned_Travel_Reviews.csv'.\n"
     ]
    }
   ],
   "source": [
    "#!/usr/bin/env python\n",
    "# coding: utf-8\n",
    "\n",
    "# In[1]:\n",
    "\n",
    "\n",
    "# Import necessary libraries\n",
    "import pandas as pd\n",
    "import numpy as np\n",
    "import matplotlib.pyplot as plt\n",
    "import seaborn as sns\n",
    "\n",
    "# Step 1: Load the dataset\n",
    "df = pd.read_csv('Day_18_Tours_and_Travels.csv')\n",
    "\n",
    "# Step 2: Handle Missing Values\n",
    "# Check for missing values\n",
    "print(\"Missing values before handling:\")\n",
    "print(df.isnull().sum())\n",
    "\n",
    "# Impute missing numerical values (Customer_Age and Rating)\n",
    "df['Customer_Age'].fillna(df['Customer_Age'].median(), inplace=True)\n",
    "df['Rating'].fillna(df['Rating'].median(), inplace=True)\n",
    "\n",
    "# Handle missing Review_Text using NLP-based techniques\n",
    "df['Review_Text'].fillna('No Review', inplace=True)\n",
    "\n",
    "# Step 3: Detect and Remove Duplicates\n",
    "# Check for duplicates\n",
    "print(\"\\nNumber of duplicates before removal:\", df.duplicated().sum())\n",
    "\n",
    "# Remove duplicates\n",
    "df.drop_duplicates(inplace=True)\n",
    "\n",
    "# Step 4: Handle Inconsistent Data\n",
    "# Ensure Rating values are between 1 and 5\n",
    "df['Rating'] = df['Rating'].clip(1, 5)\n",
    "\n",
    "# Correct spelling inconsistencies in Destination (if any)\n",
    "df['Destination'] = df['Destination'].str.strip().str.title()\n",
    "\n",
    "# Step 5: Identify and Handle Outliers\n",
    "# Boxplot for Package_Price\n",
    "plt.figure(figsize=(10, 5))\n",
    "sns.boxplot(x=df['Package_Price'])\n",
    "plt.title('Boxplot of Package_Price')\n",
    "plt.show()\n",
    "\n",
    "# Boxplot for Rating\n",
    "plt.figure(figsize=(10, 5))\n",
    "sns.boxplot(x=df['Rating'])\n",
    "plt.title('Boxplot of Rating')\n",
    "plt.show()\n",
    "\n",
    "# Apply transformation if necessary (e.g., log transformation for Package_Price)\n",
    "df['Package_Price'] = np.log1p(df['Package_Price'])\n",
    "\n",
    "# Step 6: Prepare Cleaned Data for Analysis\n",
    "# Convert categorical data into numerical format (e.g., Destination)\n",
    "df = pd.get_dummies(df, columns=['Destination'], drop_first=True)\n",
    "\n",
    "# Step 7: Save the Final Cleaned Dataset\n",
    "# Save the cleaned dataset\n",
    "df.to_csv('Cleaned_Travel_Reviews.csv', index=False)\n",
    "\n",
    "print(\"\\nDataset cleaned and saved as 'Cleaned_Travel_Reviews.csv'.\")\n",
    "\n",
    "\n",
    "# In[ ]:\n",
    "\n",
    "\n",
    "\n",
    "\n"
   ]
  },
  {
   "cell_type": "code",
   "execution_count": null,
   "id": "eff8efb8-56ff-4430-b6cb-3a089cdf6e91",
   "metadata": {},
   "outputs": [],
   "source": []
  },
  {
   "cell_type": "code",
   "execution_count": null,
   "id": "4aeb237d-a14e-4a8f-bf62-5a7c86e67930",
   "metadata": {},
   "outputs": [],
   "source": []
  }
 ],
 "metadata": {
  "kernelspec": {
   "display_name": "Python [conda env:base] *",
   "language": "python",
   "name": "conda-base-py"
  },
  "language_info": {
   "codemirror_mode": {
    "name": "ipython",
    "version": 3
   },
   "file_extension": ".py",
   "mimetype": "text/x-python",
   "name": "python",
   "nbconvert_exporter": "python",
   "pygments_lexer": "ipython3",
   "version": "3.12.7"
  }
 },
 "nbformat": 4,
 "nbformat_minor": 5
}
