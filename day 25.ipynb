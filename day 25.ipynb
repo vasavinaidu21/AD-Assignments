{
 "cells": [
  {
   "cell_type": "code",
   "execution_count": 1,
   "id": "8631df71-da30-40e8-8eaf-46f22f4ce8fb",
   "metadata": {},
   "outputs": [
    {
     "name": "stdout",
     "output_type": "stream",
     "text": [
      "Model Summary & Conclusion:\n",
      "{'Key Takeaways': {'R-squared Comparison': (0.9154177373112963, 0.9997946519351985), 'Adjusted R-squared': 0.9997837291657942, 'Highest Impact Variable': 'Building_Height', 'Multicollinearity (VIF)': {'Variable': {0: 'const', 1: 'Building_Height', 2: 'Material_Quality_Index', 3: 'Labor_Cost', 4: 'Concrete_Strength', 5: 'Foundation_Depth'}, 'VIF': {0: 36.2172436051685, 1: 1.0471642393113527, 2: 1.0480671139395974, 3: 1.0540858954504875, 4: 1.019701324974831, 5: 1.0405938701183752}}}, 'Usage in Construction': 'Regression analysis helps estimate costs by identifying key cost drivers, improving budgeting accuracy, and optimizing resource allocation.', 'Limitations': 'Potential data quality issues, multicollinearity, and omitted variable bias could impact accuracy.', 'Improvements': 'Including variables like location, labor experience, weather conditions, and material supply chain factors could enhance the model.', 'Conclusion': 'Regression analysis is a powerful tool in civil engineering, allowing companies to optimize construction costs and improve project planning through data-driven decision-making.'}\n"
     ]
    }
   ],
   "source": [
    "import pandas as pd\n",
    "import statsmodels.api as sm\n",
    "from statsmodels.stats.outliers_influence import variance_inflation_factor\n",
    "\n",
    "file_path = \"Civil_Engineering_Regression_Dataset.csv\"\n",
    "df = pd.read_csv(file_path)\n",
    "\n",
    "X = df[['Building_Height', 'Material_Quality_Index', 'Labor_Cost', 'Concrete_Strength', 'Foundation_Depth']]\n",
    "y = df['Construction_Cost']\n",
    "\n",
    "X = sm.add_constant(X)\n",
    "\n",
    "model = sm.OLS(y, X).fit()\n",
    "\n",
    "regression_coefficients = model.params\n",
    "highest_impact_variable = regression_coefficients[1:].abs().idxmax()\n",
    "\n",
    "# Compute R-squared and Adjusted R-squared for multiple regression\n",
    "r_squared_multiple = model.rsquared\n",
    "adjusted_r_squared_multiple = model.rsquared_adj\n",
    "\n",
    "# Fit a simple linear regression model using only 'Building_Height'\n",
    "X_simple = sm.add_constant(df[['Building_Height']])\n",
    "model_simple = sm.OLS(y, X_simple).fit()\n",
    "r_squared_simple = model_simple.rsquared\n",
    "\n",
    "# Calculate VIF for each independent variable\n",
    "vif_data = pd.DataFrame()\n",
    "vif_data[\"Variable\"] = X.columns\n",
    "vif_data[\"VIF\"] = [variance_inflation_factor(X.values, i) for i in range(X.shape[1])]\n",
    "\n",
    "# Model Interpretation & Conclusion\n",
    "summary = {\n",
    "    \"Key Takeaways\": {\n",
    "        \"R-squared Comparison\": (r_squared_simple, r_squared_multiple),\n",
    "        \"Adjusted R-squared\": adjusted_r_squared_multiple,\n",
    "        \"Highest Impact Variable\": highest_impact_variable,\n",
    "        \"Multicollinearity (VIF)\": vif_data.to_dict()\n",
    "    },\n",
    "    \"Usage in Construction\": \"Regression analysis helps estimate costs by identifying key cost drivers, improving budgeting accuracy, and optimizing resource allocation.\",\n",
    "    \"Limitations\": \"Potential data quality issues, multicollinearity, and omitted variable bias could impact accuracy.\",\n",
    "    \"Improvements\": \"Including variables like location, labor experience, weather conditions, and material supply chain factors could enhance the model.\",\n",
    "    \"Conclusion\": \"Regression analysis is a powerful tool in civil engineering, allowing companies to optimize construction costs and improve project planning through data-driven decision-making.\"\n",
    "}\n",
    "\n",
    "print(\"Model Summary & Conclusion:\")\n",
    "print(summary)"
   ]
  },
  {
   "cell_type": "code",
   "execution_count": null,
   "id": "c8ea754f-d001-4bbb-8eb6-4c168a07f88a",
   "metadata": {},
   "outputs": [],
   "source": []
  }
 ],
 "metadata": {
  "kernelspec": {
   "display_name": "Python [conda env:base] *",
   "language": "python",
   "name": "conda-base-py"
  },
  "language_info": {
   "codemirror_mode": {
    "name": "ipython",
    "version": 3
   },
   "file_extension": ".py",
   "mimetype": "text/x-python",
   "name": "python",
   "nbconvert_exporter": "python",
   "pygments_lexer": "ipython3",
   "version": "3.12.7"
  }
 },
 "nbformat": 4,
 "nbformat_minor": 5
}
