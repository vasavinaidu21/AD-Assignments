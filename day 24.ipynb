{
 "cells": [
  {
   "cell_type": "code",
   "execution_count": 1,
   "id": "1026a145-81a6-4ed3-8bab-2f1ee30b8b21",
   "metadata": {},
   "outputs": [
    {
     "name": "stdout",
     "output_type": "stream",
     "text": [
      "Regression Coefficients:\n",
      "const                    -15.279975\n",
      "Building_Height           49.889811\n",
      "Material_Quality_Index    10.656039\n",
      "Labor_Cost                 0.519088\n",
      "Concrete_Strength         20.308442\n",
      "Foundation_Depth          30.004214\n",
      "dtype: float64\n",
      "\n",
      "Variable with Highest Impact: Building_Height\n",
      "\n",
      "R-squared (Simple Regression): 0.9154177373112963\n",
      "R-squared (Multiple Regression): 0.9997946519351985\n",
      "Adjusted R-squared (Multiple Regression): 0.9997837291657942\n",
      "\n",
      "Variance Inflation Factor (VIF):\n",
      "                 Variable        VIF\n",
      "0                   const  36.217244\n",
      "1         Building_Height   1.047164\n",
      "2  Material_Quality_Index   1.048067\n",
      "3              Labor_Cost   1.054086\n",
      "4       Concrete_Strength   1.019701\n",
      "5        Foundation_Depth   1.040594\n"
     ]
    }
   ],
   "source": [
    "import pandas as pd\n",
    "import statsmodels.api as sm\n",
    "from statsmodels.stats.outliers_influence import variance_inflation_factor\n",
    "\n",
    "file_path = \"Civil_Engineering_Regression_Dataset.csv\"\n",
    "df = pd.read_csv(file_path)\n",
    "\n",
    "X = df[['Building_Height', 'Material_Quality_Index', 'Labor_Cost', 'Concrete_Strength', 'Foundation_Depth']]\n",
    "y = df['Construction_Cost']\n",
    "\n",
    "X = sm.add_constant(X)\n",
    "\n",
    "model = sm.OLS(y, X).fit()\n",
    "\n",
    "regression_coefficients = model.params\n",
    "highest_impact_variable = regression_coefficients[1:].abs().idxmax()\n",
    "\n",
    "# Compute R-squared and Adjusted R-squared for multiple regression\n",
    "r_squared_multiple = model.rsquared\n",
    "adjusted_r_squared_multiple = model.rsquared_adj\n",
    "\n",
    "# Fit a simple linear regression model using only 'Building_Height'\n",
    "X_simple = sm.add_constant(df[['Building_Height']])\n",
    "model_simple = sm.OLS(y, X_simple).fit()\n",
    "r_squared_simple = model_simple.rsquared\n",
    "\n",
    "# Calculate VIF for each independent variable\n",
    "vif_data = pd.DataFrame()\n",
    "vif_data[\"Variable\"] = X.columns\n",
    "vif_data[\"VIF\"] = [variance_inflation_factor(X.values, i) for i in range(X.shape[1])]\n",
    "\n",
    "print(\"Regression Coefficients:\")\n",
    "print(regression_coefficients)\n",
    "print(\"\\nVariable with Highest Impact:\", highest_impact_variable)\n",
    "print(\"\\nR-squared (Simple Regression):\", r_squared_simple)\n",
    "print(\"R-squared (Multiple Regression):\", r_squared_multiple)\n",
    "print(\"Adjusted R-squared (Multiple Regression):\", adjusted_r_squared_multiple)\n",
    "print(\"\\nVariance Inflation Factor (VIF):\")\n",
    "print(vif_data)"
   ]
  },
  {
   "cell_type": "code",
   "execution_count": null,
   "id": "1f1bd764-5069-400d-9e32-655c5ae2e8d2",
   "metadata": {},
   "outputs": [],
   "source": []
  }
 ],
 "metadata": {
  "kernelspec": {
   "display_name": "Python [conda env:base] *",
   "language": "python",
   "name": "conda-base-py"
  },
  "language_info": {
   "codemirror_mode": {
    "name": "ipython",
    "version": 3
   },
   "file_extension": ".py",
   "mimetype": "text/x-python",
   "name": "python",
   "nbconvert_exporter": "python",
   "pygments_lexer": "ipython3",
   "version": "3.12.7"
  }
 },
 "nbformat": 4,
 "nbformat_minor": 5
}
