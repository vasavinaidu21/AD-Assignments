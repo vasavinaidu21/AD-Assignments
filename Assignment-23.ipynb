{
 "cells": [
  {
   "cell_type": "code",
   "execution_count": 10,
   "id": "a96a2ba2-55ce-402e-8768-64cd434aa73d",
   "metadata": {},
   "outputs": [
    {
     "name": "stdout",
     "output_type": "stream",
     "text": [
      "Regression Coefficients:\n",
      "const                    -15.279975\n",
      "Building_Height           49.889811\n",
      "Material_Quality_Index    10.656039\n",
      "Labor_Cost                 0.519088\n",
      "Concrete_Strength         20.308442\n",
      "Foundation_Depth          30.004214\n",
      "dtype: float64\n",
      "\n",
      "Variable with Highest Impact: Building_Height\n"
     ]
    }
   ],
   "source": [
    "import pandas as pd\n",
    "import statsmodels.api as sm\n",
    "\n",
    "file_path = \"Civil_Engineering_Regression_Dataset (1).csv\"\n",
    "df = pd.read_csv(file_path)\n",
    "\n",
    "X = df[['Building_Height', 'Material_Quality_Index', 'Labor_Cost', 'Concrete_Strength', 'Foundation_Depth']]\n",
    "y = df['Construction_Cost']\n",
    "\n",
    "X = sm.add_constant(X)\n",
    "\n",
    "model = sm.OLS(y, X).fit()\n",
    "\n",
    "regression_coefficients = model.params\n",
    "\n",
    "highest_impact_variable = regression_coefficients[1:].abs().idxmax()\n",
    "\n",
    "print(\"Regression Coefficients:\")\n",
    "print(regression_coefficients)\n",
    "print(\"\\nVariable with Highest Impact:\", highest_impact_variable)"
   ]
  },
  {
   "cell_type": "code",
   "execution_count": null,
   "id": "dce51128-40a7-45b4-bfb6-13786d63488e",
   "metadata": {},
   "outputs": [],
   "source": []
  },
  {
   "cell_type": "code",
   "execution_count": null,
   "id": "5698d4a9-238a-4e93-b157-b3ab05088876",
   "metadata": {},
   "outputs": [],
   "source": []
  },
  {
   "cell_type": "code",
   "execution_count": null,
   "id": "4719fc1e-3a61-4055-8d7c-9d0e9855b1b5",
   "metadata": {},
   "outputs": [],
   "source": []
  }
 ],
 "metadata": {
  "kernelspec": {
   "display_name": "Python [conda env:base] *",
   "language": "python",
   "name": "conda-base-py"
  },
  "language_info": {
   "codemirror_mode": {
    "name": "ipython",
    "version": 3
   },
   "file_extension": ".py",
   "mimetype": "text/x-python",
   "name": "python",
   "nbconvert_exporter": "python",
   "pygments_lexer": "ipython3",
   "version": "3.12.7"
  }
 },
 "nbformat": 4,
 "nbformat_minor": 5
}
